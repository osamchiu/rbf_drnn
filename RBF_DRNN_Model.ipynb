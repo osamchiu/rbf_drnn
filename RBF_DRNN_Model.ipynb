{
 "cells": [
  {
   "cell_type": "code",
   "execution_count": null,
   "metadata": {},
   "outputs": [],
   "source": [
    "import pickle\n",
    "dataList = []\n",
    "path = '/data/'\n",
    "with open(path + 'dataList_c1.pkl', 'rb') as dataFile:\n",
    "    dataList.append(pickle.load(dataFile))\n",
    "with open(path + 'dataList_c4.pkl', 'rb') as dataFile:\n",
    "    dataList.append(pickle.load(dataFile))\n",
    "with open(path + 'dataList_c6.pkl', 'rb') as dataFile:\n",
    "    dataList.append(pickle.load(dataFile))\n"
   ]
  },
  {
   "cell_type": "code",
   "execution_count": null,
   "metadata": {},
   "outputs": [],
   "source": [
    "wearData = []\n",
    "with open(path + 'wear_c1.pkl', 'rb') as dataFile:\n",
    "    wearData.append(pickle.load(dataFile))\n",
    "with open(path + 'wear_c4.pkl', 'rb') as dataFile:\n",
    "    wearData.append(pickle.load(dataFile))\n",
    "with open(path + 'wear_c6.pkl', 'rb') as dataFile:\n",
    "    wearData.append(pickle.load(dataFile))"
   ]
  },
  {
   "cell_type": "code",
   "execution_count": 3,
   "metadata": {},
   "outputs": [],
   "source": [
    "import numpy as np\n",
    "# dimension add the first wear value\n",
    "dataList = np.asarray(dataList)\n",
    "wearData = np.asarray(wearData)\n",
    "wearData = wearData.reshape(3,315,1)\n",
    "tmp = dataList[:,1]\n",
    "tmp = np.tile(tmp,315).reshape(3,315,-1)\n",
    "dataList = np.concatenate([dataList,tmp],axis = 2)\n",
    "dim = dataList.shape[2]\n"
   ]
  },
  {
   "cell_type": "code",
   "execution_count": 4,
   "metadata": {},
   "outputs": [
    {
     "name": "stdout",
     "output_type": "stream",
     "text": [
      "(3, 315, 1302)\n",
      "(3, 315, 1)\n"
     ]
    }
   ],
   "source": [
    "print(dataList.shape)\n",
    "print(wearData.shape)"
   ]
  },
  {
   "cell_type": "code",
   "execution_count": 5,
   "metadata": {},
   "outputs": [],
   "source": [
    "# choose train data and test data\n",
    "trainDataX = np.asarray([dataList[1],dataList[2]])\n",
    "trainDataY = np.asarray([wearData[1],wearData[2]])\n",
    "testDataX = np.asarray(dataList[0])\n",
    "testDataY = np.asarray(wearData[0])"
   ]
  },
  {
   "cell_type": "code",
   "execution_count": 6,
   "metadata": {},
   "outputs": [],
   "source": [
    "# normalization \n",
    "trainDataX = trainDataX.reshape(-1,dim)\n",
    "from sklearn.preprocessing import MinMaxScaler\n",
    "scaler = MinMaxScaler()\n",
    "scaler.fit(trainDataX)\n",
    "trainStdX = scaler.transform(trainDataX)\n",
    "testStdX = scaler.transform(testDataX)\n",
    "trainStdX = trainStdX.reshape(-1,315,dim)"
   ]
  },
  {
   "cell_type": "code",
   "execution_count": 7,
   "metadata": {},
   "outputs": [],
   "source": [
    "def create_dataset(inputData, outputData, look_back):\n",
    "    dataX = []\n",
    "    dataY = []\n",
    "    for i in range(len(inputData)-look_back-1):\n",
    "        x = inputData[i:(i+look_back), :]\n",
    "        y = outputData[i,:]\n",
    "        dataX.append(x)\n",
    "        dataY.append(y)\n",
    "    return np.array(dataX), np.array(dataY)"
   ]
  },
  {
   "cell_type": "code",
   "execution_count": 8,
   "metadata": {},
   "outputs": [],
   "source": [
    "look_back = 1\n",
    "dataSetX = []\n",
    "dataSetY = []\n",
    "\n",
    "for i in range(2):\n",
    "    x, y = create_dataset(trainStdX[i], trainDataY[i], look_back)\n",
    "    dataSetX.append(x)\n",
    "    dataSetY.append(y)\n",
    "testX, testY = create_dataset(testStdX, testDataY, look_back)"
   ]
  },
  {
   "cell_type": "code",
   "execution_count": 9,
   "metadata": {},
   "outputs": [
    {
     "name": "stdout",
     "output_type": "stream",
     "text": [
      "(2, 313, 1, 1302)\n",
      "(2, 313, 1)\n",
      "(313, 1, 1302)\n",
      "(313, 1)\n"
     ]
    }
   ],
   "source": [
    "print(np.asarray(dataSetX).shape)\n",
    "print(np.asarray(dataSetY).shape)\n",
    "print(np.asarray(testX).shape) \n",
    "print(np.asarray(testY).shape)"
   ]
  },
  {
   "cell_type": "code",
   "execution_count": 10,
   "metadata": {},
   "outputs": [],
   "source": [
    "def get_batch(inputData,outputData,batchSize):\n",
    "    batchX = []\n",
    "    batchY = []\n",
    "    for i in range(int(inputData.shape[0] / batchSize)):\n",
    "        x = inputData[i*batchSize : i*batchSize + batchSize,:]\n",
    "        y = outputData[i*batchSize : i*batchSize + batchSize,:]\n",
    "        batchX.append(x)\n",
    "        batchY.append(y)\n",
    "    return np.array(batchX), np.array(batchY)"
   ]
  },
  {
   "cell_type": "code",
   "execution_count": 11,
   "metadata": {},
   "outputs": [
    {
     "name": "stdout",
     "output_type": "stream",
     "text": [
      "(2, 313, 1, 1, 1302)\n",
      "(2, 313, 1, 1)\n"
     ]
    }
   ],
   "source": [
    "batch_size = 1\n",
    "batch_X = []\n",
    "batch_Y = []\n",
    "for i in range(2):\n",
    "    x, y = get_batch(dataSetX[i], dataSetY[i], batch_size)\n",
    "    batch_X.append(x)\n",
    "    batch_Y.append(y)\n",
    "batch_X =np.asarray(batch_X)\n",
    "batch_Y = np.asarray(batch_Y)\n",
    "print(batch_X.shape)\n",
    "print(batch_Y.shape)   "
   ]
  },
  {
   "cell_type": "code",
   "execution_count": 12,
   "metadata": {},
   "outputs": [],
   "source": [
    "trainX = batch_X\n",
    "trainY = batch_Y"
   ]
  },
  {
   "cell_type": "code",
   "execution_count": 13,
   "metadata": {},
   "outputs": [
    {
     "name": "stdout",
     "output_type": "stream",
     "text": [
      "(2, 313, 1, 1, 1302)\n",
      "(2, 313, 1, 1)\n",
      "(313, 1, 1302)\n",
      "(313, 1)\n"
     ]
    }
   ],
   "source": [
    "trainX = np.asarray(trainX)\n",
    "trainY = np.asarray(trainY)\n",
    "print(trainX.shape)\n",
    "print(trainY.shape)\n",
    "print(np.asarray(testX).shape)\n",
    "print(np.asarray(testY).shape)\n",
    "train_len = len(trainX[1])\n",
    "test_len = len(testX)"
   ]
  },
  {
   "cell_type": "code",
   "execution_count": 14,
   "metadata": {},
   "outputs": [
    {
     "name": "stdout",
     "output_type": "stream",
     "text": [
      "(2, 1, 1, 1302)\n"
     ]
    }
   ],
   "source": [
    "print(trainX[:,1].shape)"
   ]
  },
  {
   "cell_type": "code",
   "execution_count": null,
   "metadata": {},
   "outputs": [],
   "source": [
    "# Global config variables\n",
    "learning_rate = 0.0001\n",
    "training_epochs = 2000"
   ]
  },
  {
   "cell_type": "code",
   "execution_count": 16,
   "metadata": {},
   "outputs": [],
   "source": [
    "input_dim = dim + 1 # add 1 because need the last prediction wear\n",
    "fuzzy_size = 3\n",
    "fuzzy_dim = (input_dim) * fuzzy_size\n",
    "hidden1_dim = np.power(2,int(np.log2(fuzzy_dim))+1)\n",
    "return_dim = hidden1_dim\n",
    "hidden2_dim = hidden1_dim/8\n",
    "hidden3_dim = hidden2_dim/8\n",
    "hidden4_dim = hidden3_dim/8\n",
    "output_dim = 1\n"
   ]
  },
  {
   "cell_type": "code",
   "execution_count": 17,
   "metadata": {},
   "outputs": [
    {
     "name": "stderr",
     "output_type": "stream",
     "text": [
      "/usr/local/anaconda3/lib/python3.6/site-packages/h5py/__init__.py:36: FutureWarning: Conversion of the second argument of issubdtype from `float` to `np.floating` is deprecated. In future, it will be treated as `np.float64 == np.dtype(float).type`.\n",
      "  from ._conv import register_converters as _register_converters\n"
     ]
    }
   ],
   "source": [
    "import tensorflow as tf\n",
    "X = tf.placeholder(tf.float64,[None,look_back, input_dim],name='x')\n",
    "Y = tf.placeholder(tf.float64,[None, output_dim],name='y')\n",
    "learning_rate_tf = tf.placeholder(tf.float64,name='rate')\n",
    "init_state = tf.placeholder(tf.float64,[None,return_dim],name='state')\n",
    "\n",
    "rnn_inputs = tf.unstack(X, axis=1)"
   ]
  },
  {
   "cell_type": "code",
   "execution_count": 18,
   "metadata": {},
   "outputs": [],
   "source": [
    "with tf.variable_scope('InputLayer_to_FuzzyLayer'):\n",
    "    # input layer to fuzzy layer1\n",
    "    Fw1 = tf.get_variable('weight', [fuzzy_dim, 1], dtype=tf.float64)\n",
    "    Fmean = tf.get_variable('mean', [fuzzy_dim,1], dtype=tf.float64)\n",
    "    Fsigma = tf.get_variable('sigma', [fuzzy_dim,1], dtype=tf.float64)\n",
    "    # add summary\n",
    "    tf.summary.histogram(\"wegiht\", Fw1)\n",
    "    tf.summary.histogram('mean', Fmean)\n",
    "    tf.summary.histogram('sigma', Fsigma)"
   ]
  },
  {
   "cell_type": "code",
   "execution_count": 19,
   "metadata": {},
   "outputs": [],
   "source": [
    "with tf.variable_scope('FuzzyLayer_to_HiddenLayer1'):\n",
    "    # fuzzy layer1 to hidden layer1\n",
    "    w1 = tf.get_variable('weight', [fuzzy_dim + return_dim, hidden1_dim], dtype=tf.float64)\n",
    "    b1 = tf.get_variable('bias', [hidden1_dim], dtype=tf.float64)\n",
    "    \n",
    "    # add summary\n",
    "    tf.summary.histogram('weight', w1)\n",
    "    tf.summary.histogram('bias', b1)\n",
    "    "
   ]
  },
  {
   "cell_type": "code",
   "execution_count": 20,
   "metadata": {},
   "outputs": [],
   "source": [
    "with tf.variable_scope('HiddenLayer1_to_HiddenLayer2'):\n",
    "    # hidden layer1 to hidden layer2\n",
    "    w2 = tf.get_variable('weight', [hidden1_dim, hidden2_dim], dtype=tf.float64)\n",
    "    b2 = tf.get_variable('bias', [hidden2_dim], dtype=tf.float64)\n",
    "    \n",
    "    # add summary\n",
    "    tf.summary.histogram('weight', w2)\n",
    "    tf.summary.histogram('bias', b2)\n"
   ]
  },
  {
   "cell_type": "code",
   "execution_count": 21,
   "metadata": {},
   "outputs": [],
   "source": [
    "with tf.variable_scope('HiddenLayer2_to_HiddenLayer3'):\n",
    "    # hidden layer2 to hidden layer3\n",
    "    w3 = tf.get_variable('weight', [hidden2_dim, hidden3_dim], dtype=tf.float64)\n",
    "    b3 = tf.get_variable('bias', [hidden3_dim], dtype=tf.float64)\n",
    "    \n",
    "    # add summary\n",
    "    tf.summary.histogram('weight', w3)\n",
    "    tf.summary.histogram('bias', b3)"
   ]
  },
  {
   "cell_type": "code",
   "execution_count": 22,
   "metadata": {},
   "outputs": [],
   "source": [
    "with tf.variable_scope('HiddenLayer3_to_HiddenLayer4'):\n",
    "    # hidden layer3 to hidden layer4\n",
    "    w4 = tf.get_variable('weight', [hidden3_dim, hidden4_dim], dtype=tf.float64)\n",
    "    b4 = tf.get_variable('bias', [hidden4_dim], dtype=tf.float64)\n",
    "    \n",
    "    # add summary\n",
    "    tf.summary.histogram('weight', w4)\n",
    "    tf.summary.histogram('bias', b4)\n",
    "    "
   ]
  },
  {
   "cell_type": "code",
   "execution_count": 23,
   "metadata": {},
   "outputs": [],
   "source": [
    "with tf.variable_scope('HiddenLayer4_to_OutputLayer'):\n",
    "    # hidden layer4 to hidden layer5\n",
    "    w5 = tf.get_variable('weight', [hidden4_dim, output_dim], dtype=tf.float64)\n",
    "    b5 = tf.get_variable('bias', [output_dim], dtype=tf.float64)\n",
    "    \n",
    "    # add summary\n",
    "    tf.summary.histogram('weight', w5)\n",
    "    tf.summary.histogram('bias', b5)\n",
    "    "
   ]
  },
  {
   "cell_type": "code",
   "execution_count": 24,
   "metadata": {},
   "outputs": [],
   "source": [
    "def rnn_cell(rnn_input, state):\n",
    "    with tf.variable_scope('InputLayer_to_FuzzyLayer', reuse=True):\n",
    "        Fw1 = tf.get_variable('weight', dtype=tf.float64)\n",
    "        Fmean = tf.get_variable('mean', dtype=tf.float64)\n",
    "        Fsigma = tf.get_variable('sigma', dtype=tf.float64)\n",
    "    with tf.variable_scope('FuzzyLayer_to_HiddenLayer1', reuse=True):\n",
    "        w1 = tf.get_variable('weight', dtype=tf.float64)\n",
    "        b1 = tf.get_variable('bias', dtype=tf.float64)\n",
    "    with tf.variable_scope('HiddenLayer1_to_HiddenLayer2', reuse=True):\n",
    "        w2 = tf.get_variable('weight', dtype=tf.float64)\n",
    "        b2 = tf.get_variable('bias', dtype=tf.float64)\n",
    "    with tf.variable_scope('HiddenLayer2_to_HiddenLayer3', reuse=True):\n",
    "        w3 = tf.get_variable('weight', dtype=tf.float64)\n",
    "        b3 = tf.get_variable('bias', dtype=tf.float64)\n",
    "    with tf.variable_scope('HiddenLayer3_to_HiddenLayer4', reuse=True):\n",
    "        w4 = tf.get_variable('weight', dtype=tf.float64)\n",
    "        b4 = tf.get_variable('bias', dtype=tf.float64)\n",
    "    with tf.variable_scope('HiddenLayer4_to_OutputLayer', reuse=True):\n",
    "        w5 = tf.get_variable('weight', dtype=tf.float64)\n",
    "        b5 = tf.get_variable('bias', dtype=tf.float64)\n",
    "\n",
    "    rnn_input = tf.tile(rnn_input,[1,3])\n",
    "    rnn_input = tf.transpose(rnn_input)\n",
    "    result = tf.multiply(rnn_input,Fw1)\n",
    "    result = tf.subtract(result,Fmean)\n",
    "    result = tf.multiply(tf.square(result),-1)\n",
    "    result = tf.divide(result,tf.square(Fsigma))\n",
    "    result = tf.exp(result)\n",
    "    result = tf.transpose(result)\n",
    "    result = tf.nn.relu(tf.add(tf.matmul(tf.concat([result,state],1),w1),b1))\n",
    "    state = result\n",
    "    result = tf.add(tf.matmul(result,w2),b2)\n",
    "    result = tf.add(tf.matmul(result,w3),b3)\n",
    "    result = tf.add(tf.matmul(result,w4),b4)\n",
    "    result = tf.add(tf.matmul(result,w5),b5)\n",
    "\n",
    "    return result, state\n"
   ]
  },
  {
   "cell_type": "code",
   "execution_count": 25,
   "metadata": {},
   "outputs": [],
   "source": [
    "state_list = []\n",
    "y_pred_list = []\n",
    "state = init_state\n",
    "for rnn_input in rnn_inputs:\n",
    "    y_pred,state = rnn_cell(rnn_input, state)\n",
    "    y_pred_list.append(y_pred)\n",
    "    state_list.append(state)\n",
    "prediction = y_pred\n",
    "tf.add_to_collection('prediction_fun',prediction)\n",
    "final_state = state_list[0]\n",
    "tf.add_to_collection('state_fun',final_state)\n"
   ]
  },
  {
   "cell_type": "code",
   "execution_count": 26,
   "metadata": {},
   "outputs": [],
   "source": [
    "with tf.name_scope('Loss'):\n",
    "    loss =  tf.losses.mean_squared_error(Y,prediction);\n",
    "    tf.summary.scalar(\"loss\",loss)\n",
    "    "
   ]
  },
  {
   "cell_type": "code",
   "execution_count": 27,
   "metadata": {},
   "outputs": [],
   "source": [
    "with tf.name_scope('Accuracy'):\n",
    "    RMSE = tf.sqrt(tf.losses.mean_squared_error(Y,prediction))\n",
    "    sub = tf.subtract(Y,prediction)\n",
    "    Precision = tf.sqrt(tf.reduce_mean(tf.square(tf.subtract(sub,tf.reduce_mean(sub)))))\n",
    "    tf.summary.scalar(\"RMSE\",RMSE)\n",
    "    tf.summary.scalar(\"Precision\",Precision)"
   ]
  },
  {
   "cell_type": "code",
   "execution_count": 28,
   "metadata": {},
   "outputs": [],
   "source": [
    "with tf.name_scope('Optimizer'):\n",
    "    regularization_loss = tf.nn.l2_loss(Fw1) + tf.nn.l2_loss(w1) + tf.nn.l2_loss(w2)\\\n",
    "    + tf.nn.l2_loss(w3) + tf.nn.l2_loss(w4) + tf.nn.l2_loss(w5)\n",
    "    optimizer = tf.train.AdamOptimizer(learning_rate=learning_rate_tf).minimize\\\n",
    "    (tf.reduce_mean(tf.cast(loss,tf.float64) + regularization_loss * 0.01)) "
   ]
  },
  {
   "cell_type": "code",
   "execution_count": null,
   "metadata": {
    "scrolled": false
   },
   "outputs": [
    {
     "name": "stdout",
     "output_type": "stream",
     "text": [
      "1  Times :\n",
      "10.0 %\n",
      "batch_loss 16.908781537248775\n",
      "batch_acc 2.8630732240768286\n",
      "20.0 %\n",
      "batch_loss 14.9014702255769\n",
      "batch_acc 2.9953693231454674\n",
      "30.0 %\n",
      "batch_loss 4.224904029470286\n",
      "batch_acc 1.574345664856152\n",
      "40.0 %\n",
      "batch_loss 3.6983543458250026\n",
      "batch_acc 1.4142729878044737\n",
      "50.0 %\n",
      "batch_loss 7.392582949186685\n",
      "batch_acc 2.1874950396748014\n",
      "60.0 %\n",
      "batch_loss 7.449862373770849\n",
      "batch_acc 2.185074900666746\n",
      "70.0 %\n",
      "batch_loss 7.205973797735532\n",
      "batch_acc 1.866674612124507\n",
      "80.0 %\n",
      "batch_loss 10.999752271880274\n",
      "batch_acc 2.466122532804934\n",
      "90.0 %\n",
      "batch_loss 8.64710302841963\n",
      "batch_acc 2.306828337355544\n",
      "100%\n",
      "batch_loss 5.365033721016644\n",
      "batch_acc 1.885442087825495\n",
      "2  Times :\n",
      "10.0 %\n",
      "batch_loss 19.695375675668778\n",
      "batch_acc 3.3474808775197964\n",
      "20.0 %\n",
      "batch_loss 8.860167379241208\n",
      "batch_acc 2.2938466818568806\n",
      "30.0 %\n",
      "batch_loss 15.514460973467358\n",
      "batch_acc 2.9659827844784283\n",
      "40.0 %\n",
      "batch_loss 17.27642717492756\n",
      "batch_acc 3.1185524516974015\n",
      "50.0 %\n",
      "batch_loss 8.009624083075835\n",
      "batch_acc 2.1563630302112324\n",
      "60.0 %\n",
      "batch_loss 10.377987750969194\n",
      "batch_acc 2.645552513317559\n",
      "70.0 %\n",
      "batch_loss 7.623485587304644\n",
      "batch_acc 2.179104890305394\n",
      "80.0 %\n",
      "batch_loss 12.758092637607135\n",
      "batch_acc 2.7371340376881363\n",
      "90.0 %\n",
      "batch_loss 8.562438293956198\n",
      "batch_acc 2.285899707684502\n",
      "100%\n",
      "batch_loss 8.82861554056353\n",
      "batch_acc 2.280404554007533\n",
      "3  Times :\n",
      "10.0 %\n",
      "batch_loss 33.58330869126712\n",
      "batch_acc 4.496342549308801\n",
      "20.0 %\n",
      "batch_loss 14.821968464607806\n",
      "batch_acc 3.0566152414193932\n",
      "30.0 %\n",
      "batch_loss 7.504726988331864\n",
      "batch_acc 2.166095294891455\n",
      "40.0 %\n",
      "batch_loss 18.04115447199566\n",
      "batch_acc 2.9693525759175943\n",
      "50.0 %\n",
      "batch_loss 7.668337563795618\n",
      "batch_acc 2.047406169172293\n",
      "60.0 %\n",
      "batch_loss 8.643675274838534\n",
      "batch_acc 2.2931454143585106\n",
      "70.0 %\n",
      "batch_loss 5.531864477496222\n",
      "batch_acc 1.870699794147723\n",
      "80.0 %\n",
      "batch_loss 3.411172453245816\n",
      "batch_acc 1.408516557833638\n",
      "90.0 %\n",
      "batch_loss 14.717445428325673\n",
      "batch_acc 2.9224677771425096\n",
      "100%\n",
      "batch_loss 2.6611095829262434\n",
      "batch_acc 1.2787099661537633\n",
      "4  Times :\n",
      "10.0 %\n",
      "batch_loss 11.701709977354291\n",
      "batch_acc 2.647503048467179\n",
      "20.0 %\n",
      "batch_loss 16.02742701188816\n",
      "batch_acc 2.957361276157367\n",
      "30.0 %\n",
      "batch_loss 9.495638243787283\n",
      "batch_acc 2.419940159343683\n",
      "40.0 %\n",
      "batch_loss 7.210367552771125\n",
      "batch_acc 2.1872200310801544\n",
      "50.0 %\n",
      "batch_loss 5.190416788009048\n",
      "batch_acc 1.8039420679354439\n",
      "60.0 %\n",
      "batch_loss 11.925934835687464\n",
      "batch_acc 2.535430847265469\n",
      "70.0 %\n",
      "batch_loss 3.8799634643376786\n",
      "batch_acc 1.464977428935968\n",
      "80.0 %\n",
      "batch_loss 2.896847556422992\n",
      "batch_acc 1.381667944569938\n",
      "90.0 %\n",
      "batch_loss 11.541140107630538\n",
      "batch_acc 2.42169852150134\n",
      "100%\n",
      "batch_loss 6.437310386778167\n",
      "batch_acc 1.9845459423126124\n",
      "5  Times :\n",
      "10.0 %\n",
      "batch_loss 8.191095806298236\n",
      "batch_acc 2.2066928327274016\n",
      "20.0 %\n",
      "batch_loss 16.022121036166087\n",
      "batch_acc 3.1998563924917396\n",
      "30.0 %\n",
      "batch_loss 10.371033665378572\n",
      "batch_acc 2.5470101170646497\n",
      "40.0 %\n",
      "batch_loss 9.18152759129324\n",
      "batch_acc 2.1518690395659914\n",
      "50.0 %\n",
      "batch_loss 5.089471933357258\n",
      "batch_acc 1.7822179946655663\n",
      "60.0 %\n",
      "batch_loss 4.959321752737054\n",
      "batch_acc 1.5140480919006152\n",
      "70.0 %\n",
      "batch_loss 11.465483313901336\n",
      "batch_acc 2.6386802478339346\n",
      "80.0 %\n",
      "batch_loss 6.513707148791931\n",
      "batch_acc 2.0267691475133924\n",
      "90.0 %\n",
      "batch_loss 6.5285475403772475\n",
      "batch_acc 1.8821741719596303\n",
      "100%\n",
      "batch_loss 12.007674005400771\n",
      "batch_acc 2.37470754495444\n"
     ]
    }
   ],
   "source": [
    "import time\n",
    "for which_train_model in range(5):\n",
    "    tStart = time.time()\n",
    "    losses = []\n",
    "    val_losses = []\n",
    "    saver = tf.train.Saver()\n",
    "    while(1):\n",
    "        with tf.Session() as sess:\n",
    "            final_RMSE = 10000000000\n",
    "            for k in range(1):\n",
    "                print('%d' % (which_train_model+1),\" Times :\")\n",
    "\n",
    "                # init Variables\n",
    "                sess.run(tf.global_variables_initializer())\n",
    "                global_step = 0\n",
    "                total_batch_loss = 0\n",
    "                proportion = training_epochs / 10\n",
    "                for epoch in range(training_epochs):\n",
    "                    if epoch % proportion == 0 and epoch !=0:\n",
    "                        print(epoch / proportion * 10,\"%\")\n",
    "                        print('batch_loss',batch_loss/train_len/2)\n",
    "                        print('batch_acc',batch_acc/train_len/2)\n",
    "                    # add the last prediction wear , but the first time need to add the realy wear\n",
    "                    for index in range(2):\n",
    "                        training_state = np.zeros((batch_size, return_dim), dtype=np.float64)\n",
    "                        if index == 0:\n",
    "                            batch_loss = 0\n",
    "                            batch_acc = 0\n",
    "\n",
    "                        for i in range(train_len):\n",
    "                            if(i == 0):\n",
    "                                tmp = np.asarray([0]).reshape([1,1,1])\n",
    "                                inputX = np.concatenate([trainX[index,i],tmp],axis = 2)\n",
    "                            else:\n",
    "                                step_pre = np.stack(step_pre,axis = 1)\n",
    "                                inputX = np.concatenate([trainX[index,i],tmp],axis = 2)\n",
    "                            step_pre = sess.run(y_pred_list, feed_dict={X: inputX, Y: trainY[index,i], init_state: training_state,learning_rate_tf: learning_rate})\n",
    "                            if np.isnan(step_pre) == 1:\n",
    "                                flag = 1\n",
    "                                break\n",
    "                            else:\n",
    "                                flag = 0\n",
    "                            training_state = sess.run(final_state, feed_dict={X: inputX, Y: trainY[index,i], init_state: training_state,learning_rate_tf: learning_rate})\n",
    "                            sess.run(optimizer, feed_dict={X: inputX, Y: trainY[index,i], init_state: training_state,learning_rate_tf: learning_rate})\n",
    "                            batch_loss = batch_loss + sess.run(loss,\\\n",
    "                                                               feed_dict={X: inputX, Y: trainY[index,i], init_state: training_state,learning_rate_tf: learning_rate})\n",
    "                            batch_acc = batch_acc + sess.run(RMSE,\\\n",
    "                                                             feed_dict={X: inputX, Y: trainY[index,i], init_state: training_state,learning_rate_tf: learning_rate})\n",
    "                            global_step += 1\n",
    "                    if flag == 1 :\n",
    "                        break\n",
    "                print(\"100%\")\n",
    "                print('batch_loss',batch_loss/train_len/2)\n",
    "                print('batch_acc',batch_acc/train_len/2)\n",
    "\n",
    "                pre = np.asarray([])\n",
    "                test_state = np.zeros((1,return_dim), dtype=np.float64)\n",
    "                for i in range(test_len):\n",
    "                    if(i == 0):\n",
    "                        tmp = np.asarray([0]).reshape([1,1,1])\n",
    "                        inputX = np.concatenate([testX[index,i].reshape([1,look_back,dim]),tmp],axis = 2)\n",
    "                    else:\n",
    "                        step_pre = np.stack(step_pre,axis = 1)\n",
    "                        inputX = testX[i].reshape([1,look_back,dim])\n",
    "                        inputX = np.concatenate([inputX,step_pre],axis = 2)\n",
    "\n",
    "                    step_pre = sess.run(y_pred_list, feed_dict={X: inputX, Y: testY[i].reshape([1,1]), init_state: test_state,learning_rate_tf: learning_rate})\n",
    "                    result = sess.run(prediction, feed_dict=\\\n",
    "                               {X:inputX, Y:testY[i].reshape([1,1]), init_state: test_state,learning_rate_tf: learning_rate})\n",
    "                    test_state = sess.run(final_state, feed_dict=\\\n",
    "                                          {X: inputX, Y: testY[i].reshape([1,1]), init_state: test_state,learning_rate_tf: learning_rate})\n",
    "                    pre = np.append(pre,result)\n",
    "\n",
    "                test_RMSE = np.sqrt(np.square(np.subtract(testY.reshape([-1]), pre)).mean())\n",
    "                sub = np.subtract(testY.reshape([-1]),pre)\n",
    "                test_Precision = np.sqrt(np.mean(np.square(np.subtract(sub,np.mean(sub)))))\n",
    "                test_NRMSE = test_RMSE / np.subtract(testY.reshape([-1]), pre).mean()\n",
    "                test_RULA = (1 - np.mean(np.absolute((testY[1:].reshape(-1) - pre[1:]) / testY[1:].reshape(-1)))) * 100\n",
    "                if final_RMSE > test_RMSE:\n",
    "                    final_RMSE = test_RMSE\n",
    "                    final_Precision = test_Precision\n",
    "                    final_NRMSE = test_NRMSE\n",
    "                    final_pre = pre\n",
    "                    saver.save(sess, 'Fuzzy_RNN_Model_3/ChooseModel/ChooseModel_regularization_' + str(which_train_model) + '.ckpt')\n",
    "        if np.isnan(test_RMSE) != 1 and flag == 0 :\n",
    "            break\n"
   ]
  },
  {
   "cell_type": "code",
   "execution_count": null,
   "metadata": {},
   "outputs": [
    {
     "name": "stdout",
     "output_type": "stream",
     "text": [
      "TIME 51094.34077119827\n",
      "RMSE 32.348814433834555\n",
      "Precision 13.646855207655312\n",
      "NRMSE 1.102951314734316\n"
     ]
    },
    {
     "data": {
      "text/plain": [
       "<matplotlib.legend.Legend at 0x7fd4040a4978>"
      ]
     },
     "execution_count": 31,
     "metadata": {},
     "output_type": "execute_result"
    },
    {
     "data": {
      "image/png": "[encoded data removed]",
      "text/plain": [
       "<Figure size 432x288 with 1 Axes>"
      ]
     },
     "metadata": {},
     "output_type": "display_data"
    }
   ],
   "source": [
    "import matplotlib.pyplot as plt\n",
    "%matplotlib inline\n",
    "tEnd = time.time()\n",
    "print('TIME',tEnd - tStart)\n",
    "print('RMSE', final_RMSE)\n",
    "print('Precision', final_Precision)\n",
    "print('NRMSE', final_NRMSE)\n",
    "plt.plot(testY,label='ans_c1')\n",
    "plt.plot(final_pre,label='pre')\n",
    "plt.legend(bbox_to_anchor=(1.05, 1), loc=2, borderaxespad=0.)"
   ]
  },
  {
   "cell_type": "code",
   "execution_count": null,
   "metadata": {
    "collapsed": true
   },
   "outputs": [
    {
     "name": "stdout",
     "output_type": "stream",
     "text": [
      "INFO:tensorflow:Restoring parameters from /home/louis/Documents/Python/PHM_second/Fuzzy_RNN_Model_3/ChooseModel/ChooseModel_regularization.ckpt\n"
     ]
    },
    {
     "ename": "NotFoundError",
     "evalue": "Unsuccessful TensorSliceReader constructor: Failed to find any matching files for /home/louis/Documents/Python/PHM_second/Fuzzy_RNN_Model_3/ChooseModel/ChooseModel_regularization.ckpt\n\t [[Node: save_5/RestoreV2 = RestoreV2[dtypes=[DT_DOUBLE, DT_DOUBLE, DT_DOUBLE, DT_DOUBLE, DT_DOUBLE, ..., DT_DOUBLE, DT_DOUBLE, DT_DOUBLE, DT_FLOAT, DT_FLOAT], _device=\"/job:localhost/replica:0/task:0/device:CPU:0\"](_arg_save_5/Const_0_0, save_5/RestoreV2/tensor_names, save_5/RestoreV2/shape_and_slices)]]\n\t [[Node: save_5/RestoreV2/_53 = _Recv[client_terminated=false, recv_device=\"/job:localhost/replica:0/task:0/device:GPU:0\", send_device=\"/job:localhost/replica:0/task:0/device:CPU:0\", send_device_incarnation=1, tensor_name=\"edge_58_save_5/RestoreV2\", tensor_type=DT_FLOAT, _device=\"/job:localhost/replica:0/task:0/device:GPU:0\"]()]]\n\nCaused by op 'save_5/RestoreV2', defined at:\n  File \"/usr/local/anaconda3/lib/python3.6/runpy.py\", line 193, in _run_module_as_main\n    \"__main__\", mod_spec)\n  File \"/usr/local/anaconda3/lib/python3.6/runpy.py\", line 85, in _run_code\n    exec(code, run_globals)\n  File \"/usr/local/anaconda3/lib/python3.6/site-packages/ipykernel_launcher.py\", line 16, in <module>\n    app.launch_new_instance()\n  File \"/usr/local/anaconda3/lib/python3.6/site-packages/traitlets/config/application.py\", line 658, in launch_instance\n    app.start()\n  File \"/usr/local/anaconda3/lib/python3.6/site-packages/ipykernel/kernelapp.py\", line 486, in start\n    self.io_loop.start()\n  File \"/usr/local/anaconda3/lib/python3.6/site-packages/tornado/platform/asyncio.py\", line 127, in start\n    self.asyncio_loop.run_forever()\n  File \"/usr/local/anaconda3/lib/python3.6/asyncio/base_events.py\", line 422, in run_forever\n    self._run_once()\n  File \"/usr/local/anaconda3/lib/python3.6/asyncio/base_events.py\", line 1432, in _run_once\n    handle._run()\n  File \"/usr/local/anaconda3/lib/python3.6/asyncio/events.py\", line 145, in _run\n    self._callback(*self._args)\n  File \"/usr/local/anaconda3/lib/python3.6/site-packages/tornado/ioloop.py\", line 759, in _run_callback\n    ret = callback()\n  File \"/usr/local/anaconda3/lib/python3.6/site-packages/tornado/stack_context.py\", line 276, in null_wrapper\n    return fn(*args, **kwargs)\n  File \"/usr/local/anaconda3/lib/python3.6/site-packages/zmq/eventloop/zmqstream.py\", line 536, in <lambda>\n    self.io_loop.add_callback(lambda : self._handle_events(self.socket, 0))\n  File \"/usr/local/anaconda3/lib/python3.6/site-packages/zmq/eventloop/zmqstream.py\", line 450, in _handle_events\n    self._handle_recv()\n  File \"/usr/local/anaconda3/lib/python3.6/site-packages/zmq/eventloop/zmqstream.py\", line 480, in _handle_recv\n    self._run_callback(callback, msg)\n  File \"/usr/local/anaconda3/lib/python3.6/site-packages/zmq/eventloop/zmqstream.py\", line 432, in _run_callback\n    callback(*args, **kwargs)\n  File \"/usr/local/anaconda3/lib/python3.6/site-packages/tornado/stack_context.py\", line 276, in null_wrapper\n    return fn(*args, **kwargs)\n  File \"/usr/local/anaconda3/lib/python3.6/site-packages/ipykernel/kernelbase.py\", line 283, in dispatcher\n    return self.dispatch_shell(stream, msg)\n  File \"/usr/local/anaconda3/lib/python3.6/site-packages/ipykernel/kernelbase.py\", line 233, in dispatch_shell\n    handler(stream, idents, msg)\n  File \"/usr/local/anaconda3/lib/python3.6/site-packages/ipykernel/kernelbase.py\", line 399, in execute_request\n    user_expressions, allow_stdin)\n  File \"/usr/local/anaconda3/lib/python3.6/site-packages/ipykernel/ipkernel.py\", line 208, in do_execute\n    res = shell.run_cell(code, store_history=store_history, silent=silent)\n  File \"/usr/local/anaconda3/lib/python3.6/site-packages/ipykernel/zmqshell.py\", line 537, in run_cell\n    return super(ZMQInteractiveShell, self).run_cell(*args, **kwargs)\n  File \"/usr/local/anaconda3/lib/python3.6/site-packages/IPython/core/interactiveshell.py\", line 2662, in run_cell\n    raw_cell, store_history, silent, shell_futures)\n  File \"/usr/local/anaconda3/lib/python3.6/site-packages/IPython/core/interactiveshell.py\", line 2785, in _run_cell\n    interactivity=interactivity, compiler=compiler, result=result)\n  File \"/usr/local/anaconda3/lib/python3.6/site-packages/IPython/core/interactiveshell.py\", line 2903, in run_ast_nodes\n    if self.run_code(code, result):\n  File \"/usr/local/anaconda3/lib/python3.6/site-packages/IPython/core/interactiveshell.py\", line 2963, in run_code\n    exec(code_obj, self.user_global_ns, self.user_ns)\n  File \"<ipython-input-32-e8a72f135817>\", line 1, in <module>\n    saver = tf.train.Saver()\n  File \"/usr/local/anaconda3/lib/python3.6/site-packages/tensorflow/python/training/saver.py\", line 1293, in __init__\n    self.build()\n  File \"/usr/local/anaconda3/lib/python3.6/site-packages/tensorflow/python/training/saver.py\", line 1302, in build\n    self._build(self._filename, build_save=True, build_restore=True)\n  File \"/usr/local/anaconda3/lib/python3.6/site-packages/tensorflow/python/training/saver.py\", line 1339, in _build\n    build_save=build_save, build_restore=build_restore)\n  File \"/usr/local/anaconda3/lib/python3.6/site-packages/tensorflow/python/training/saver.py\", line 796, in _build_internal\n    restore_sequentially, reshape)\n  File \"/usr/local/anaconda3/lib/python3.6/site-packages/tensorflow/python/training/saver.py\", line 449, in _AddRestoreOps\n    restore_sequentially)\n  File \"/usr/local/anaconda3/lib/python3.6/site-packages/tensorflow/python/training/saver.py\", line 847, in bulk_restore\n    return io_ops.restore_v2(filename_tensor, names, slices, dtypes)\n  File \"/usr/local/anaconda3/lib/python3.6/site-packages/tensorflow/python/ops/gen_io_ops.py\", line 1030, in restore_v2\n    shape_and_slices=shape_and_slices, dtypes=dtypes, name=name)\n  File \"/usr/local/anaconda3/lib/python3.6/site-packages/tensorflow/python/framework/op_def_library.py\", line 787, in _apply_op_helper\n    op_def=op_def)\n  File \"/usr/local/anaconda3/lib/python3.6/site-packages/tensorflow/python/framework/ops.py\", line 3271, in create_op\n    op_def=op_def)\n  File \"/usr/local/anaconda3/lib/python3.6/site-packages/tensorflow/python/framework/ops.py\", line 1650, in __init__\n    self._traceback = self._graph._extract_stack()  # pylint: disable=protected-access\n\nNotFoundError (see above for traceback): Unsuccessful TensorSliceReader constructor: Failed to find any matching files for /home/louis/Documents/Python/PHM_second/Fuzzy_RNN_Model_3/ChooseModel/ChooseModel_regularization.ckpt\n\t [[Node: save_5/RestoreV2 = RestoreV2[dtypes=[DT_DOUBLE, DT_DOUBLE, DT_DOUBLE, DT_DOUBLE, DT_DOUBLE, ..., DT_DOUBLE, DT_DOUBLE, DT_DOUBLE, DT_FLOAT, DT_FLOAT], _device=\"/job:localhost/replica:0/task:0/device:CPU:0\"](_arg_save_5/Const_0_0, save_5/RestoreV2/tensor_names, save_5/RestoreV2/shape_and_slices)]]\n\t [[Node: save_5/RestoreV2/_53 = _Recv[client_terminated=false, recv_device=\"/job:localhost/replica:0/task:0/device:GPU:0\", send_device=\"/job:localhost/replica:0/task:0/device:CPU:0\", send_device_incarnation=1, tensor_name=\"edge_58_save_5/RestoreV2\", tensor_type=DT_FLOAT, _device=\"/job:localhost/replica:0/task:0/device:GPU:0\"]()]]\n",
     "output_type": "error",
     "traceback": [
      "\u001b[0;31m---------------------------------------------------------------------------\u001b[0m",
      "\u001b[0;31mNotFoundError\u001b[0m                             Traceback (most recent call last)",
      "\u001b[0;32m/usr/local/anaconda3/lib/python3.6/site-packages/tensorflow/python/client/session.py\u001b[0m in \u001b[0;36m_do_call\u001b[0;34m(self, fn, *args)\u001b[0m\n\u001b[1;32m   1360\u001b[0m     \u001b[0;32mtry\u001b[0m\u001b[0;34m:\u001b[0m\u001b[0;34m\u001b[0m\u001b[0m\n\u001b[0;32m-> 1361\u001b[0;31m       \u001b[0;32mreturn\u001b[0m \u001b[0mfn\u001b[0m\u001b[0;34m(\u001b[0m\u001b[0;34m*\u001b[0m\u001b[0margs\u001b[0m\u001b[0;34m)\u001b[0m\u001b[0;34m\u001b[0m\u001b[0m\n\u001b[0m\u001b[1;32m   1362\u001b[0m     \u001b[0;32mexcept\u001b[0m \u001b[0merrors\u001b[0m\u001b[0;34m.\u001b[0m\u001b[0mOpError\u001b[0m \u001b[0;32mas\u001b[0m \u001b[0me\u001b[0m\u001b[0;34m:\u001b[0m\u001b[0;34m\u001b[0m\u001b[0m\n",
      "\u001b[0;32m/usr/local/anaconda3/lib/python3.6/site-packages/tensorflow/python/client/session.py\u001b[0m in \u001b[0;36m_run_fn\u001b[0;34m(session, feed_dict, fetch_list, target_list, options, run_metadata)\u001b[0m\n\u001b[1;32m   1339\u001b[0m           return tf_session.TF_Run(session, options, feed_dict, fetch_list,\n\u001b[0;32m-> 1340\u001b[0;31m                                    target_list, status, run_metadata)\n\u001b[0m\u001b[1;32m   1341\u001b[0m \u001b[0;34m\u001b[0m\u001b[0m\n",
      "\u001b[0;32m/usr/local/anaconda3/lib/python3.6/site-packages/tensorflow/python/framework/errors_impl.py\u001b[0m in \u001b[0;36m__exit__\u001b[0;34m(self, type_arg, value_arg, traceback_arg)\u001b[0m\n\u001b[1;32m    515\u001b[0m             \u001b[0mcompat\u001b[0m\u001b[0;34m.\u001b[0m\u001b[0mas_text\u001b[0m\u001b[0;34m(\u001b[0m\u001b[0mc_api\u001b[0m\u001b[0;34m.\u001b[0m\u001b[0mTF_Message\u001b[0m\u001b[0;34m(\u001b[0m\u001b[0mself\u001b[0m\u001b[0;34m.\u001b[0m\u001b[0mstatus\u001b[0m\u001b[0;34m.\u001b[0m\u001b[0mstatus\u001b[0m\u001b[0;34m)\u001b[0m\u001b[0;34m)\u001b[0m\u001b[0;34m,\u001b[0m\u001b[0;34m\u001b[0m\u001b[0m\n\u001b[0;32m--> 516\u001b[0;31m             c_api.TF_GetCode(self.status.status))\n\u001b[0m\u001b[1;32m    517\u001b[0m     \u001b[0;31m# Delete the underlying status object from memory otherwise it stays alive\u001b[0m\u001b[0;34m\u001b[0m\u001b[0;34m\u001b[0m\u001b[0m\n",
      "\u001b[0;31mNotFoundError\u001b[0m: Unsuccessful TensorSliceReader constructor: Failed to find any matching files for /home/louis/Documents/Python/PHM_second/Fuzzy_RNN_Model_3/ChooseModel/ChooseModel_regularization.ckpt\n\t [[Node: save_5/RestoreV2 = RestoreV2[dtypes=[DT_DOUBLE, DT_DOUBLE, DT_DOUBLE, DT_DOUBLE, DT_DOUBLE, ..., DT_DOUBLE, DT_DOUBLE, DT_DOUBLE, DT_FLOAT, DT_FLOAT], _device=\"/job:localhost/replica:0/task:0/device:CPU:0\"](_arg_save_5/Const_0_0, save_5/RestoreV2/tensor_names, save_5/RestoreV2/shape_and_slices)]]\n\t [[Node: save_5/RestoreV2/_53 = _Recv[client_terminated=false, recv_device=\"/job:localhost/replica:0/task:0/device:GPU:0\", send_device=\"/job:localhost/replica:0/task:0/device:CPU:0\", send_device_incarnation=1, tensor_name=\"edge_58_save_5/RestoreV2\", tensor_type=DT_FLOAT, _device=\"/job:localhost/replica:0/task:0/device:GPU:0\"]()]]",
      "\nDuring handling of the above exception, another exception occurred:\n",
      "\u001b[0;31mNotFoundError\u001b[0m                             Traceback (most recent call last)",
      "\u001b[0;32m<ipython-input-32-e8a72f135817>\u001b[0m in \u001b[0;36m<module>\u001b[0;34m()\u001b[0m\n\u001b[1;32m      2\u001b[0m \u001b[0;34m\u001b[0m\u001b[0m\n\u001b[1;32m      3\u001b[0m \u001b[0;32mwith\u001b[0m \u001b[0mtf\u001b[0m\u001b[0;34m.\u001b[0m\u001b[0mSession\u001b[0m\u001b[0;34m(\u001b[0m\u001b[0;34m)\u001b[0m \u001b[0;32mas\u001b[0m \u001b[0msess\u001b[0m\u001b[0;34m:\u001b[0m\u001b[0;34m\u001b[0m\u001b[0m\n\u001b[0;32m----> 4\u001b[0;31m     \u001b[0msaver\u001b[0m\u001b[0;34m.\u001b[0m\u001b[0mrestore\u001b[0m\u001b[0;34m(\u001b[0m\u001b[0msess\u001b[0m\u001b[0;34m,\u001b[0m \u001b[0;34m\"/home/louis/Documents/Python/PHM_second/Fuzzy_RNN_Model_3/ChooseModel/ChooseModel_regularization.ckpt\"\u001b[0m\u001b[0;34m)\u001b[0m\u001b[0;34m\u001b[0m\u001b[0m\n\u001b[0m\u001b[1;32m      5\u001b[0m \u001b[0;34m\u001b[0m\u001b[0m\n\u001b[1;32m      6\u001b[0m     \u001b[0mpre\u001b[0m \u001b[0;34m=\u001b[0m \u001b[0mnp\u001b[0m\u001b[0;34m.\u001b[0m\u001b[0masarray\u001b[0m\u001b[0;34m(\u001b[0m\u001b[0;34m[\u001b[0m\u001b[0;34m]\u001b[0m\u001b[0;34m)\u001b[0m\u001b[0;34m\u001b[0m\u001b[0m\n",
      "\u001b[0;32m/usr/local/anaconda3/lib/python3.6/site-packages/tensorflow/python/training/saver.py\u001b[0m in \u001b[0;36mrestore\u001b[0;34m(self, sess, save_path)\u001b[0m\n\u001b[1;32m   1753\u001b[0m     \u001b[0;32mif\u001b[0m \u001b[0mcontext\u001b[0m\u001b[0;34m.\u001b[0m\u001b[0min_graph_mode\u001b[0m\u001b[0;34m(\u001b[0m\u001b[0;34m)\u001b[0m\u001b[0;34m:\u001b[0m\u001b[0;34m\u001b[0m\u001b[0m\n\u001b[1;32m   1754\u001b[0m       sess.run(self.saver_def.restore_op_name,\n\u001b[0;32m-> 1755\u001b[0;31m                {self.saver_def.filename_tensor_name: save_path})\n\u001b[0m\u001b[1;32m   1756\u001b[0m     \u001b[0;32melse\u001b[0m\u001b[0;34m:\u001b[0m\u001b[0;34m\u001b[0m\u001b[0m\n\u001b[1;32m   1757\u001b[0m       \u001b[0mself\u001b[0m\u001b[0;34m.\u001b[0m\u001b[0m_build_eager\u001b[0m\u001b[0;34m(\u001b[0m\u001b[0msave_path\u001b[0m\u001b[0;34m,\u001b[0m \u001b[0mbuild_save\u001b[0m\u001b[0;34m=\u001b[0m\u001b[0;32mFalse\u001b[0m\u001b[0;34m,\u001b[0m \u001b[0mbuild_restore\u001b[0m\u001b[0;34m=\u001b[0m\u001b[0;32mTrue\u001b[0m\u001b[0;34m)\u001b[0m\u001b[0;34m\u001b[0m\u001b[0m\n",
      "\u001b[0;32m/usr/local/anaconda3/lib/python3.6/site-packages/tensorflow/python/client/session.py\u001b[0m in \u001b[0;36mrun\u001b[0;34m(self, fetches, feed_dict, options, run_metadata)\u001b[0m\n\u001b[1;32m    903\u001b[0m     \u001b[0;32mtry\u001b[0m\u001b[0;34m:\u001b[0m\u001b[0;34m\u001b[0m\u001b[0m\n\u001b[1;32m    904\u001b[0m       result = self._run(None, fetches, feed_dict, options_ptr,\n\u001b[0;32m--> 905\u001b[0;31m                          run_metadata_ptr)\n\u001b[0m\u001b[1;32m    906\u001b[0m       \u001b[0;32mif\u001b[0m \u001b[0mrun_metadata\u001b[0m\u001b[0;34m:\u001b[0m\u001b[0;34m\u001b[0m\u001b[0m\n\u001b[1;32m    907\u001b[0m         \u001b[0mproto_data\u001b[0m \u001b[0;34m=\u001b[0m \u001b[0mtf_session\u001b[0m\u001b[0;34m.\u001b[0m\u001b[0mTF_GetBuffer\u001b[0m\u001b[0;34m(\u001b[0m\u001b[0mrun_metadata_ptr\u001b[0m\u001b[0;34m)\u001b[0m\u001b[0;34m\u001b[0m\u001b[0m\n",
      "\u001b[0;32m/usr/local/anaconda3/lib/python3.6/site-packages/tensorflow/python/client/session.py\u001b[0m in \u001b[0;36m_run\u001b[0;34m(self, handle, fetches, feed_dict, options, run_metadata)\u001b[0m\n\u001b[1;32m   1135\u001b[0m     \u001b[0;32mif\u001b[0m \u001b[0mfinal_fetches\u001b[0m \u001b[0;32mor\u001b[0m \u001b[0mfinal_targets\u001b[0m \u001b[0;32mor\u001b[0m \u001b[0;34m(\u001b[0m\u001b[0mhandle\u001b[0m \u001b[0;32mand\u001b[0m \u001b[0mfeed_dict_tensor\u001b[0m\u001b[0;34m)\u001b[0m\u001b[0;34m:\u001b[0m\u001b[0;34m\u001b[0m\u001b[0m\n\u001b[1;32m   1136\u001b[0m       results = self._do_run(handle, final_targets, final_fetches,\n\u001b[0;32m-> 1137\u001b[0;31m                              feed_dict_tensor, options, run_metadata)\n\u001b[0m\u001b[1;32m   1138\u001b[0m     \u001b[0;32melse\u001b[0m\u001b[0;34m:\u001b[0m\u001b[0;34m\u001b[0m\u001b[0m\n\u001b[1;32m   1139\u001b[0m       \u001b[0mresults\u001b[0m \u001b[0;34m=\u001b[0m \u001b[0;34m[\u001b[0m\u001b[0;34m]\u001b[0m\u001b[0;34m\u001b[0m\u001b[0m\n",
      "\u001b[0;32m/usr/local/anaconda3/lib/python3.6/site-packages/tensorflow/python/client/session.py\u001b[0m in \u001b[0;36m_do_run\u001b[0;34m(self, handle, target_list, fetch_list, feed_dict, options, run_metadata)\u001b[0m\n\u001b[1;32m   1353\u001b[0m     \u001b[0;32mif\u001b[0m \u001b[0mhandle\u001b[0m \u001b[0;32mis\u001b[0m \u001b[0;32mNone\u001b[0m\u001b[0;34m:\u001b[0m\u001b[0;34m\u001b[0m\u001b[0m\n\u001b[1;32m   1354\u001b[0m       return self._do_call(_run_fn, self._session, feeds, fetches, targets,\n\u001b[0;32m-> 1355\u001b[0;31m                            options, run_metadata)\n\u001b[0m\u001b[1;32m   1356\u001b[0m     \u001b[0;32melse\u001b[0m\u001b[0;34m:\u001b[0m\u001b[0;34m\u001b[0m\u001b[0m\n\u001b[1;32m   1357\u001b[0m       \u001b[0;32mreturn\u001b[0m \u001b[0mself\u001b[0m\u001b[0;34m.\u001b[0m\u001b[0m_do_call\u001b[0m\u001b[0;34m(\u001b[0m\u001b[0m_prun_fn\u001b[0m\u001b[0;34m,\u001b[0m \u001b[0mself\u001b[0m\u001b[0;34m.\u001b[0m\u001b[0m_session\u001b[0m\u001b[0;34m,\u001b[0m \u001b[0mhandle\u001b[0m\u001b[0;34m,\u001b[0m \u001b[0mfeeds\u001b[0m\u001b[0;34m,\u001b[0m \u001b[0mfetches\u001b[0m\u001b[0;34m)\u001b[0m\u001b[0;34m\u001b[0m\u001b[0m\n",
      "\u001b[0;32m/usr/local/anaconda3/lib/python3.6/site-packages/tensorflow/python/client/session.py\u001b[0m in \u001b[0;36m_do_call\u001b[0;34m(self, fn, *args)\u001b[0m\n\u001b[1;32m   1372\u001b[0m         \u001b[0;32mexcept\u001b[0m \u001b[0mKeyError\u001b[0m\u001b[0;34m:\u001b[0m\u001b[0;34m\u001b[0m\u001b[0m\n\u001b[1;32m   1373\u001b[0m           \u001b[0;32mpass\u001b[0m\u001b[0;34m\u001b[0m\u001b[0m\n\u001b[0;32m-> 1374\u001b[0;31m       \u001b[0;32mraise\u001b[0m \u001b[0mtype\u001b[0m\u001b[0;34m(\u001b[0m\u001b[0me\u001b[0m\u001b[0;34m)\u001b[0m\u001b[0;34m(\u001b[0m\u001b[0mnode_def\u001b[0m\u001b[0;34m,\u001b[0m \u001b[0mop\u001b[0m\u001b[0;34m,\u001b[0m \u001b[0mmessage\u001b[0m\u001b[0;34m)\u001b[0m\u001b[0;34m\u001b[0m\u001b[0m\n\u001b[0m\u001b[1;32m   1375\u001b[0m \u001b[0;34m\u001b[0m\u001b[0m\n\u001b[1;32m   1376\u001b[0m   \u001b[0;32mdef\u001b[0m \u001b[0m_extend_graph\u001b[0m\u001b[0;34m(\u001b[0m\u001b[0mself\u001b[0m\u001b[0;34m)\u001b[0m\u001b[0;34m:\u001b[0m\u001b[0;34m\u001b[0m\u001b[0m\n",
      "\u001b[0;31mNotFoundError\u001b[0m: Unsuccessful TensorSliceReader constructor: Failed to find any matching files for /home/louis/Documents/Python/PHM_second/Fuzzy_RNN_Model_3/ChooseModel/ChooseModel_regularization.ckpt\n\t [[Node: save_5/RestoreV2 = RestoreV2[dtypes=[DT_DOUBLE, DT_DOUBLE, DT_DOUBLE, DT_DOUBLE, DT_DOUBLE, ..., DT_DOUBLE, DT_DOUBLE, DT_DOUBLE, DT_FLOAT, DT_FLOAT], _device=\"/job:localhost/replica:0/task:0/device:CPU:0\"](_arg_save_5/Const_0_0, save_5/RestoreV2/tensor_names, save_5/RestoreV2/shape_and_slices)]]\n\t [[Node: save_5/RestoreV2/_53 = _Recv[client_terminated=false, recv_device=\"/job:localhost/replica:0/task:0/device:GPU:0\", send_device=\"/job:localhost/replica:0/task:0/device:CPU:0\", send_device_incarnation=1, tensor_name=\"edge_58_save_5/RestoreV2\", tensor_type=DT_FLOAT, _device=\"/job:localhost/replica:0/task:0/device:GPU:0\"]()]]\n\nCaused by op 'save_5/RestoreV2', defined at:\n  File \"/usr/local/anaconda3/lib/python3.6/runpy.py\", line 193, in _run_module_as_main\n    \"__main__\", mod_spec)\n  File \"/usr/local/anaconda3/lib/python3.6/runpy.py\", line 85, in _run_code\n    exec(code, run_globals)\n  File \"/usr/local/anaconda3/lib/python3.6/site-packages/ipykernel_launcher.py\", line 16, in <module>\n    app.launch_new_instance()\n  File \"/usr/local/anaconda3/lib/python3.6/site-packages/traitlets/config/application.py\", line 658, in launch_instance\n    app.start()\n  File \"/usr/local/anaconda3/lib/python3.6/site-packages/ipykernel/kernelapp.py\", line 486, in start\n    self.io_loop.start()\n  File \"/usr/local/anaconda3/lib/python3.6/site-packages/tornado/platform/asyncio.py\", line 127, in start\n    self.asyncio_loop.run_forever()\n  File \"/usr/local/anaconda3/lib/python3.6/asyncio/base_events.py\", line 422, in run_forever\n    self._run_once()\n  File \"/usr/local/anaconda3/lib/python3.6/asyncio/base_events.py\", line 1432, in _run_once\n    handle._run()\n  File \"/usr/local/anaconda3/lib/python3.6/asyncio/events.py\", line 145, in _run\n    self._callback(*self._args)\n  File \"/usr/local/anaconda3/lib/python3.6/site-packages/tornado/ioloop.py\", line 759, in _run_callback\n    ret = callback()\n  File \"/usr/local/anaconda3/lib/python3.6/site-packages/tornado/stack_context.py\", line 276, in null_wrapper\n    return fn(*args, **kwargs)\n  File \"/usr/local/anaconda3/lib/python3.6/site-packages/zmq/eventloop/zmqstream.py\", line 536, in <lambda>\n    self.io_loop.add_callback(lambda : self._handle_events(self.socket, 0))\n  File \"/usr/local/anaconda3/lib/python3.6/site-packages/zmq/eventloop/zmqstream.py\", line 450, in _handle_events\n    self._handle_recv()\n  File \"/usr/local/anaconda3/lib/python3.6/site-packages/zmq/eventloop/zmqstream.py\", line 480, in _handle_recv\n    self._run_callback(callback, msg)\n  File \"/usr/local/anaconda3/lib/python3.6/site-packages/zmq/eventloop/zmqstream.py\", line 432, in _run_callback\n    callback(*args, **kwargs)\n  File \"/usr/local/anaconda3/lib/python3.6/site-packages/tornado/stack_context.py\", line 276, in null_wrapper\n    return fn(*args, **kwargs)\n  File \"/usr/local/anaconda3/lib/python3.6/site-packages/ipykernel/kernelbase.py\", line 283, in dispatcher\n    return self.dispatch_shell(stream, msg)\n  File \"/usr/local/anaconda3/lib/python3.6/site-packages/ipykernel/kernelbase.py\", line 233, in dispatch_shell\n    handler(stream, idents, msg)\n  File \"/usr/local/anaconda3/lib/python3.6/site-packages/ipykernel/kernelbase.py\", line 399, in execute_request\n    user_expressions, allow_stdin)\n  File \"/usr/local/anaconda3/lib/python3.6/site-packages/ipykernel/ipkernel.py\", line 208, in do_execute\n    res = shell.run_cell(code, store_history=store_history, silent=silent)\n  File \"/usr/local/anaconda3/lib/python3.6/site-packages/ipykernel/zmqshell.py\", line 537, in run_cell\n    return super(ZMQInteractiveShell, self).run_cell(*args, **kwargs)\n  File \"/usr/local/anaconda3/lib/python3.6/site-packages/IPython/core/interactiveshell.py\", line 2662, in run_cell\n    raw_cell, store_history, silent, shell_futures)\n  File \"/usr/local/anaconda3/lib/python3.6/site-packages/IPython/core/interactiveshell.py\", line 2785, in _run_cell\n    interactivity=interactivity, compiler=compiler, result=result)\n  File \"/usr/local/anaconda3/lib/python3.6/site-packages/IPython/core/interactiveshell.py\", line 2903, in run_ast_nodes\n    if self.run_code(code, result):\n  File \"/usr/local/anaconda3/lib/python3.6/site-packages/IPython/core/interactiveshell.py\", line 2963, in run_code\n    exec(code_obj, self.user_global_ns, self.user_ns)\n  File \"<ipython-input-32-e8a72f135817>\", line 1, in <module>\n    saver = tf.train.Saver()\n  File \"/usr/local/anaconda3/lib/python3.6/site-packages/tensorflow/python/training/saver.py\", line 1293, in __init__\n    self.build()\n  File \"/usr/local/anaconda3/lib/python3.6/site-packages/tensorflow/python/training/saver.py\", line 1302, in build\n    self._build(self._filename, build_save=True, build_restore=True)\n  File \"/usr/local/anaconda3/lib/python3.6/site-packages/tensorflow/python/training/saver.py\", line 1339, in _build\n    build_save=build_save, build_restore=build_restore)\n  File \"/usr/local/anaconda3/lib/python3.6/site-packages/tensorflow/python/training/saver.py\", line 796, in _build_internal\n    restore_sequentially, reshape)\n  File \"/usr/local/anaconda3/lib/python3.6/site-packages/tensorflow/python/training/saver.py\", line 449, in _AddRestoreOps\n    restore_sequentially)\n  File \"/usr/local/anaconda3/lib/python3.6/site-packages/tensorflow/python/training/saver.py\", line 847, in bulk_restore\n    return io_ops.restore_v2(filename_tensor, names, slices, dtypes)\n  File \"/usr/local/anaconda3/lib/python3.6/site-packages/tensorflow/python/ops/gen_io_ops.py\", line 1030, in restore_v2\n    shape_and_slices=shape_and_slices, dtypes=dtypes, name=name)\n  File \"/usr/local/anaconda3/lib/python3.6/site-packages/tensorflow/python/framework/op_def_library.py\", line 787, in _apply_op_helper\n    op_def=op_def)\n  File \"/usr/local/anaconda3/lib/python3.6/site-packages/tensorflow/python/framework/ops.py\", line 3271, in create_op\n    op_def=op_def)\n  File \"/usr/local/anaconda3/lib/python3.6/site-packages/tensorflow/python/framework/ops.py\", line 1650, in __init__\n    self._traceback = self._graph._extract_stack()  # pylint: disable=protected-access\n\nNotFoundError (see above for traceback): Unsuccessful TensorSliceReader constructor: Failed to find any matching files for /home/louis/Documents/Python/PHM_second/Fuzzy_RNN_Model_3/ChooseModel/ChooseModel_regularization.ckpt\n\t [[Node: save_5/RestoreV2 = RestoreV2[dtypes=[DT_DOUBLE, DT_DOUBLE, DT_DOUBLE, DT_DOUBLE, DT_DOUBLE, ..., DT_DOUBLE, DT_DOUBLE, DT_DOUBLE, DT_FLOAT, DT_FLOAT], _device=\"/job:localhost/replica:0/task:0/device:CPU:0\"](_arg_save_5/Const_0_0, save_5/RestoreV2/tensor_names, save_5/RestoreV2/shape_and_slices)]]\n\t [[Node: save_5/RestoreV2/_53 = _Recv[client_terminated=false, recv_device=\"/job:localhost/replica:0/task:0/device:GPU:0\", send_device=\"/job:localhost/replica:0/task:0/device:CPU:0\", send_device_incarnation=1, tensor_name=\"edge_58_save_5/RestoreV2\", tensor_type=DT_FLOAT, _device=\"/job:localhost/replica:0/task:0/device:GPU:0\"]()]]\n"
     ]
    }
   ],
   "source": [
    "saver = tf.train.Saver()\n",
    "\n",
    "with tf.Session() as sess:\n",
    "    saver.restore(sess, \"Fuzzy_RNN_Model_3/ChooseModel/ChooseModel_regularization.ckpt\")\n",
    "    \n",
    "    pre = np.asarray([])\n",
    "    test_state = np.zeros((1,return_dim), dtype=np.float64)\n",
    "    for i in range(test_len):\n",
    "        if(i == 0):\n",
    "            tmp = np.asarray([0]).reshape([1,1,1])\n",
    "            inputX = np.concatenate([testX[i].reshape(1,1,-1),tmp],axis = 2)\n",
    "        else:\n",
    "            step_pre = np.stack(step_pre,axis = 1)\n",
    "            inputX = testX[i].reshape(1,1,-1)\n",
    "            inputX = np.concatenate([inputX,step_pre],axis = 2)\n",
    "\n",
    "\n",
    "        step_pre = sess.run(y_pred_list, feed_dict={X: inputX, Y: testY[i].reshape([1,1]), init_state: test_state,learning_rate_tf: learning_rate})\n",
    "        result = sess.run(prediction, feed_dict=\\\n",
    "                   {X:inputX, Y:testY[i].reshape([1,1]), init_state: test_state,learning_rate_tf: learning_rate})\n",
    "        test_state = sess.run(final_state, feed_dict=\\\n",
    "                              {X: inputX, Y: testY[i].reshape([1,1]), init_state: test_state,learning_rate_tf: learning_rate})\n",
    "        pre = np.append(pre, result)\n",
    "\n",
    "    test_RMSE = np.sqrt(np.square(np.subtract(testY.reshape([-1]), pre)).mean())\n",
    "    sub = np.subtract(testY.reshape([-1]),pre)\n",
    "    test_Precision = np.sqrt(np.mean(np.square(np.subtract(sub,np.mean(sub)))))\n",
    "    test_NRMSE = test_RMSE / np.subtract(testY.reshape([-1]), pre).mean()"
   ]
  },
  {
   "cell_type": "code",
   "execution_count": null,
   "metadata": {},
   "outputs": [],
   "source": [
    "import matplotlib.pyplot as plt\n",
    "%matplotlib inline\n",
    "print('RMSE', test_RMSE)\n",
    "print('Precision', test_Precision)\n",
    "print('NRMSE', test_NRMSE)\n",
    "plt.plot(testY,label='ans_c1')\n",
    "plt.plot(pre,label='pre')\n",
    "plt.legend(bbox_to_anchor=(1.05, 1), loc=2, borderaxespad=0.)"
   ]
  },
  {
   "cell_type": "markdown",
   "metadata": {},
   "source": [
    "# "
   ]
  }
 ],
 "metadata": {
  "kernelspec": {
   "display_name": "Python 3",
   "language": "python",
   "name": "python3"
  },
  "language_info": {
   "codemirror_mode": {
    "name": "ipython",
    "version": 3
   },
   "file_extension": ".py",
   "mimetype": "text/x-python",
   "name": "python",
   "nbconvert_exporter": "python",
   "pygments_lexer": "ipython3",
   "version": "3.6.5"
  },
  "pycharm": {
   "stem_cell": {
    "cell_type": "raw",
    "metadata": {
     "collapsed": false
    },
    "source": []
   }
  }
 },
 "nbformat": 4,
 "nbformat_minor": 2
}
